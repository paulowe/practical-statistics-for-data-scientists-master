{
 "cells": [
  {
   "cell_type": "markdown",
   "metadata": {},
   "source": [
    "# Practical Statistics for Data Scientists (Python)\n",
    "# Chapter 3. Statistial Experiments and Significance Testing\n",
    "> (c) 2019 Peter C. Bruce, Andrew Bruce, Peter Gedeck"
   ]
  },
  {
   "cell_type": "code",
   "execution_count": null,
   "metadata": {},
   "outputs": [],
   "source": []
  },
  {
   "cell_type": "markdown",
   "metadata": {},
   "source": [
    "Import required Python packages."
   ]
  },
  {
   "cell_type": "code",
   "execution_count": 59,
   "metadata": {
    "tags": []
   },
   "outputs": [],
   "source": [
    "%matplotlib inline\n",
    "\n",
    "from pathlib import Path\n",
    "import random\n",
    "\n",
    "import pandas as pd\n",
    "import numpy as np\n",
    "\n",
    "from scipy import stats\n",
    "import statsmodels.api as sm\n",
    "import statsmodels.formula.api as smf\n",
    "from statsmodels.stats import power\n",
    "\n",
    "import matplotlib.pylab as plt"
   ]
  },
  {
   "cell_type": "code",
   "execution_count": 60,
   "metadata": {
    "tags": []
   },
   "outputs": [],
   "source": [
    "try:\n",
    "    import common\n",
    "    DATA = common.dataDirectory()\n",
    "except ImportError:\n",
    "    DATA = Path().resolve() / 'data'"
   ]
  },
  {
   "cell_type": "markdown",
   "metadata": {},
   "source": [
    "Define paths to data sets. If you don't keep your data in the same directory as the code, adapt the path names."
   ]
  },
  {
   "cell_type": "code",
   "execution_count": 61,
   "metadata": {
    "tags": []
   },
   "outputs": [],
   "source": [
    "WEB_PAGE_DATA_CSV = DATA / 'web_page_data.csv'\n",
    "FOUR_SESSIONS_CSV = DATA / 'four_sessions.csv'\n",
    "CLICK_RATE_CSV = DATA / 'click_rates.csv'\n",
    "IMANISHI_CSV = DATA / 'imanishi_data.csv'"
   ]
  },
  {
   "cell_type": "markdown",
   "metadata": {},
   "source": [
    "# Resampling"
   ]
  },
  {
   "cell_type": "code",
   "execution_count": null,
   "metadata": {},
   "outputs": [],
   "source": []
  },
  {
   "cell_type": "code",
   "execution_count": 62,
   "metadata": {
    "tags": []
   },
   "outputs": [
    {
     "name": "stdout",
     "output_type": "stream",
     "text": [
      "     Page  Time\n",
      "0  Page A  0.21\n",
      "1  Page B  2.53\n",
      "2  Page A  0.35\n",
      "3  Page B  0.71\n",
      "4  Page A  0.67\n"
     ]
    },
    {
     "data": {
      "text/html": [
       "<div>\n",
       "<style scoped>\n",
       "    .dataframe tbody tr th:only-of-type {\n",
       "        vertical-align: middle;\n",
       "    }\n",
       "\n",
       "    .dataframe tbody tr th {\n",
       "        vertical-align: top;\n",
       "    }\n",
       "\n",
       "    .dataframe thead th {\n",
       "        text-align: right;\n",
       "    }\n",
       "</style>\n",
       "<table border=\"1\" class=\"dataframe\">\n",
       "  <thead>\n",
       "    <tr style=\"text-align: right;\">\n",
       "      <th></th>\n",
       "      <th>Page</th>\n",
       "      <th>Time</th>\n",
       "    </tr>\n",
       "  </thead>\n",
       "  <tbody>\n",
       "    <tr>\n",
       "      <th>0</th>\n",
       "      <td>Page A</td>\n",
       "      <td>21.0</td>\n",
       "    </tr>\n",
       "    <tr>\n",
       "      <th>1</th>\n",
       "      <td>Page B</td>\n",
       "      <td>253.0</td>\n",
       "    </tr>\n",
       "    <tr>\n",
       "      <th>2</th>\n",
       "      <td>Page A</td>\n",
       "      <td>35.0</td>\n",
       "    </tr>\n",
       "    <tr>\n",
       "      <th>3</th>\n",
       "      <td>Page B</td>\n",
       "      <td>71.0</td>\n",
       "    </tr>\n",
       "    <tr>\n",
       "      <th>4</th>\n",
       "      <td>Page A</td>\n",
       "      <td>67.0</td>\n",
       "    </tr>\n",
       "  </tbody>\n",
       "</table>\n",
       "</div>"
      ],
      "text/plain": [
       "     Page   Time\n",
       "0  Page A   21.0\n",
       "1  Page B  253.0\n",
       "2  Page A   35.0\n",
       "3  Page B   71.0\n",
       "4  Page A   67.0"
      ]
     },
     "execution_count": 62,
     "metadata": {},
     "output_type": "execute_result"
    }
   ],
   "source": [
    "session_times = pd.read_csv(WEB_PAGE_DATA_CSV)\n",
    "print(session_times.head())\n",
    "session_times.Time = 100 * session_times.Time\n",
    "session_times.head()"
   ]
  },
  {
   "cell_type": "code",
   "execution_count": 63,
   "metadata": {
    "tags": []
   },
   "outputs": [
    {
     "data": {
      "image/png": "[encoded data removed]",
      "text/plain": [
       "<Figure size 288x288 with 1 Axes>"
      ]
     },
     "metadata": {
      "needs_background": "light"
     },
     "output_type": "display_data"
    }
   ],
   "source": [
    "ax = session_times.boxplot(by='Page', column='Time',\n",
    "                           figsize=(4, 4))\n",
    "ax.set_xlabel('')\n",
    "ax.set_ylabel('Time (in seconds)')\n",
    "plt.suptitle('')\n",
    "\n",
    "plt.tight_layout()\n",
    "plt.show()"
   ]
  },
  {
   "cell_type": "code",
   "execution_count": 64,
   "metadata": {
    "tags": []
   },
   "outputs": [
    {
     "name": "stdout",
     "output_type": "stream",
     "text": [
      "35.66666666666667\n"
     ]
    }
   ],
   "source": [
    "mean_a = session_times[session_times.Page == 'Page A'].Time.mean()\n",
    "mean_b = session_times[session_times.Page == 'Page B'].Time.mean()\n",
    "print(mean_b - mean_a)"
   ]
  },
  {
   "cell_type": "markdown",
   "metadata": {},
   "source": [
    "The following code is different to the R version. idx_A and idx_B are reversed."
   ]
  },
  {
   "cell_type": "code",
   "execution_count": 65,
   "metadata": {},
   "outputs": [],
   "source": [
    "# tes = set(random.sample(range(10),4))\n",
    "# print(tes)\n",
    "# set(range(10)) - tes"
   ]
  },
  {
   "cell_type": "code",
   "execution_count": 66,
   "metadata": {
    "tags": []
   },
   "outputs": [
    {
     "name": "stdout",
     "output_type": "stream",
     "text": [
      "35.09523809523809\n"
     ]
    }
   ],
   "source": [
    "# Permutation test example with stickiness\n",
    "def perm_fun(x, nA, nB):\n",
    "    n = nA + nB # n is the total number of samples from both groups\n",
    "    idx_B = set(random.sample(range(n), nB)) # resample a random set of nB indices between 0 - n\n",
    "    idx_A = set(range(n)) - idx_B # resample remaining nA indices\n",
    "    return x.loc[list(idx_B)].mean() - x.loc[list(idx_A)].mean() #return mean difference for one resample\n",
    "    \n",
    "nA = session_times[session_times.Page == 'Page A'].shape[0]\n",
    "nB = session_times[session_times.Page == 'Page B'].shape[0]\n",
    "print(perm_fun(session_times.Time, nA, nB)) # x is the combined Times for groups A and B"
   ]
  },
  {
   "cell_type": "code",
   "execution_count": 67,
   "metadata": {},
   "outputs": [],
   "source": [
    "random.seed(1)"
   ]
  },
  {
   "cell_type": "code",
   "execution_count": 68,
   "metadata": {
    "tags": []
   },
   "outputs": [
    {
     "data": {
      "image/png": "[encoded data removed]",
      "text/plain": [
       "<Figure size 360x360 with 1 Axes>"
      ]
     },
     "metadata": {
      "needs_background": "light"
     },
     "output_type": "display_data"
    }
   ],
   "source": [
    "random.seed(1)\n",
    "perm_diffs = [perm_fun(session_times.Time, nA, nB) for _ in range(1000)] # resample 1000 times\n",
    "\n",
    "fig, ax = plt.subplots(figsize=(5, 5))\n",
    "ax.hist(perm_diffs, bins=11, rwidth=0.9)\n",
    "ax.axvline(x = mean_b - mean_a, color='black', lw=2)\n",
    "ax.text(50, 190, 'Observed\\ndifference', bbox={'facecolor':'white'})\n",
    "ax.set_xlabel('Session time differences (in seconds)')\n",
    "ax.set_ylabel('Frequency')\n",
    "\n",
    "plt.tight_layout()\n",
    "plt.show()"
   ]
  },
  {
   "cell_type": "code",
   "execution_count": 69,
   "metadata": {},
   "outputs": [],
   "source": [
    "# perm_diffs"
   ]
  },
  {
   "cell_type": "code",
   "execution_count": 70,
   "metadata": {
    "tags": []
   },
   "outputs": [
    {
     "name": "stdout",
     "output_type": "stream",
     "text": [
      "0.121\n"
     ]
    }
   ],
   "source": [
    "# convert perm_diffs to numpy array to avoid problems with some Python installations\n",
    "perm_diffs = np.array(perm_diffs)\n",
    "print(np.mean(perm_diffs > mean_b - mean_a))"
   ]
  },
  {
   "cell_type": "markdown",
   "metadata": {},
   "source": [
    "# Statistical Significance and P-Values\n",
    "*Statistical significance* measures whther an experiment (or a study of exisiting data) yields a result more extreme than what chance might produce. If the result is beyond the realm of chance variation, it is said to be statisitcally significant.\n",
    "\n",
    "*p-value* is the probability of obtaining results as unusual or extreme as the observed results from a chance model that embodies ththe null hypothesis"
   ]
  },
  {
   "cell_type": "code",
   "execution_count": 71,
   "metadata": {},
   "outputs": [
    {
     "name": "stdout",
     "output_type": "stream",
     "text": [
      "Observed difference: 0.0368%\n"
     ]
    },
    {
     "data": {
      "image/png": "[encoded data removed]",
      "text/plain": [
       "<Figure size 360x360 with 1 Axes>"
      ]
     },
     "metadata": {
      "needs_background": "light"
     },
     "output_type": "display_data"
    }
   ],
   "source": [
    "random.seed(1)\n",
    "obs_pct_diff = 100 * (200 / 23739 - 182 / 22588)\n",
    "print(f'Observed difference: {obs_pct_diff:.4f}%')\n",
    "conversion = [0] * 45945\n",
    "conversion.extend([1] * 382)\n",
    "conversion = pd.Series(conversion)\n",
    "\n",
    "perm_diffs = [100 * perm_fun(conversion, 23739, 22588) \n",
    "              for _ in range(1000)]\n",
    "\n",
    "fig, ax = plt.subplots(figsize=(5, 5))\n",
    "ax.hist(perm_diffs, bins=11, rwidth=0.9)\n",
    "ax.axvline(x=obs_pct_diff, color='black', lw=2)\n",
    "ax.text(0.06, 200, 'Observed\\ndifference', bbox={'facecolor':'white'})\n",
    "ax.set_xlabel('Conversion rate (percent)')\n",
    "ax.set_ylabel('Frequency')\n",
    "\n",
    "plt.tight_layout()\n",
    "plt.show()"
   ]
  },
  {
   "cell_type": "markdown",
   "metadata": {},
   "source": [
    "## P-Value\n",
    "If `np.mean` is applied to a list of booleans, it gives the percentage of how often True was found in the list (#True / #Total)."
   ]
  },
  {
   "cell_type": "code",
   "execution_count": 72,
   "metadata": {},
   "outputs": [
    {
     "name": "stdout",
     "output_type": "stream",
     "text": [
      "0.332\n"
     ]
    }
   ],
   "source": [
    "print(np.mean([diff > obs_pct_diff for diff in perm_diffs]))"
   ]
  },
  {
   "cell_type": "code",
   "execution_count": 73,
   "metadata": {},
   "outputs": [
    {
     "name": "stdout",
     "output_type": "stream",
     "text": [
      "p-value for single sided test: 0.3498\n"
     ]
    }
   ],
   "source": [
    "survivors = np.array([[200, 23739 - 200], [182, 22588 - 182]])\n",
    "chi2, p_value, df, _ = stats.chi2_contingency(survivors)\n",
    "\n",
    "print(f'p-value for single sided test: {p_value / 2:.4f}')"
   ]
  },
  {
   "cell_type": "markdown",
   "metadata": {},
   "source": [
    "# t-Tests"
   ]
  },
  {
   "cell_type": "code",
   "execution_count": 13,
   "metadata": {
    "execution": {
     "iopub.execute_input": "2022-04-26T19:42:21.729209Z",
     "iopub.status.busy": "2022-04-26T19:42:21.728975Z",
     "iopub.status.idle": "2022-04-26T19:42:21.735487Z",
     "shell.execute_reply": "2022-04-26T19:42:21.734555Z"
    }
   },
   "outputs": [
    {
     "name": "stdout",
     "output_type": "stream",
     "text": [
      "p-value for single sided test: 0.1408\n"
     ]
    }
   ],
   "source": [
    "res = stats.ttest_ind(session_times[session_times.Page == 'Page A'].Time, \n",
    "                      session_times[session_times.Page == 'Page B'].Time,\n",
    "                      equal_var=False)\n",
    "print(f'p-value for single sided test: {res.pvalue / 2:.4f}') # divided by 2 gives you single side"
   ]
  },
  {
   "cell_type": "code",
   "execution_count": 14,
   "metadata": {
    "execution": {
     "iopub.execute_input": "2022-04-26T19:42:21.739558Z",
     "iopub.status.busy": "2022-04-26T19:42:21.739291Z",
     "iopub.status.idle": "2022-04-26T19:42:21.747649Z",
     "shell.execute_reply": "2022-04-26T19:42:21.746446Z"
    }
   },
   "outputs": [
    {
     "name": "stdout",
     "output_type": "stream",
     "text": [
      "p-value: 0.1408\n"
     ]
    }
   ],
   "source": [
    "tstat, pvalue, df = sm.stats.ttest_ind(\n",
    "    session_times[session_times.Page == 'Page A'].Time, \n",
    "    session_times[session_times.Page == 'Page B'].Time,\n",
    "    usevar='unequal', alternative='smaller')\n",
    "print(f'p-value: {pvalue:.4f}')"
   ]
  },
  {
   "cell_type": "markdown",
   "metadata": {},
   "source": [
    "# ANOVA"
   ]
  },
  {
   "cell_type": "code",
   "execution_count": 15,
   "metadata": {
    "execution": {
     "iopub.execute_input": "2022-04-26T19:42:21.751186Z",
     "iopub.status.busy": "2022-04-26T19:42:21.750977Z",
     "iopub.status.idle": "2022-04-26T19:42:21.897765Z",
     "shell.execute_reply": "2022-04-26T19:42:21.896620Z"
    }
   },
   "outputs": [
    {
     "data": {
      "image/png": "[encoded data removed]",
      "text/plain": [
       "<Figure size 288x288 with 1 Axes>"
      ]
     },
     "metadata": {
      "needs_background": "light"
     },
     "output_type": "display_data"
    }
   ],
   "source": [
    "four_sessions = pd.read_csv(FOUR_SESSIONS_CSV)\n",
    "\n",
    "ax = four_sessions.boxplot(by='Page', column='Time',\n",
    "                           figsize=(4, 4))\n",
    "ax.set_xlabel('Page')\n",
    "ax.set_ylabel('Time (in seconds)')\n",
    "plt.suptitle('')\n",
    "plt.title('')\n",
    "\n",
    "plt.tight_layout()\n",
    "plt.show()"
   ]
  },
  {
   "cell_type": "code",
   "execution_count": 16,
   "metadata": {
    "execution": {
     "iopub.execute_input": "2022-04-26T19:42:21.900869Z",
     "iopub.status.busy": "2022-04-26T19:42:21.900292Z",
     "iopub.status.idle": "2022-04-26T19:42:21.911676Z",
     "shell.execute_reply": "2022-04-26T19:42:21.910836Z"
    }
   },
   "outputs": [
    {
     "name": "stdout",
     "output_type": "stream",
     "text": [
      "     Page  Time\n",
      "0  Page 1   164\n",
      "1  Page 2   178\n",
      "2  Page 3   175\n",
      "3  Page 4   155\n",
      "4  Page 1   172\n"
     ]
    }
   ],
   "source": [
    "print(pd.read_csv(FOUR_SESSIONS_CSV).head())"
   ]
  },
  {
   "cell_type": "code",
   "execution_count": 17,
   "metadata": {
    "execution": {
     "iopub.execute_input": "2022-04-26T19:42:21.915209Z",
     "iopub.status.busy": "2022-04-26T19:42:21.914517Z",
     "iopub.status.idle": "2022-04-26T19:42:21.927224Z",
     "shell.execute_reply": "2022-04-26T19:42:21.926407Z"
    }
   },
   "outputs": [
    {
     "name": "stdout",
     "output_type": "stream",
     "text": [
      "Observed means: [172.8 182.6 175.6 164.6]\n",
      "Variance: 55.426666666666655\n",
      "18.493333333333258\n"
     ]
    }
   ],
   "source": [
    "observed_variance = four_sessions.groupby('Page').mean().var()[0]\n",
    "print('Observed means:', four_sessions.groupby('Page').mean().values.ravel())\n",
    "print('Variance:', observed_variance)\n",
    "# Permutation test example with stickiness\n",
    "def perm_test(df):\n",
    "    df = df.copy()\n",
    "    df['Time'] = np.random.permutation(df['Time'].values)\n",
    "    return df.groupby('Page').mean().var()[0]\n",
    "    \n",
    "print(perm_test(four_sessions))"
   ]
  },
  {
   "cell_type": "code",
   "execution_count": 18,
   "metadata": {
    "execution": {
     "iopub.execute_input": "2022-04-26T19:42:21.930000Z",
     "iopub.status.busy": "2022-04-26T19:42:21.929797Z",
     "iopub.status.idle": "2022-04-26T19:42:25.947396Z",
     "shell.execute_reply": "2022-04-26T19:42:25.946552Z"
    }
   },
   "outputs": [
    {
     "name": "stdout",
     "output_type": "stream",
     "text": [
      "Pr(Prob) 0.07833333333333334\n"
     ]
    },
    {
     "data": {
      "image/png": "[encoded data removed]",
      "text/plain": [
       "<Figure size 360x360 with 1 Axes>"
      ]
     },
     "metadata": {
      "needs_background": "light"
     },
     "output_type": "display_data"
    }
   ],
   "source": [
    "random.seed(1)\n",
    "perm_variance = [perm_test(four_sessions) for _ in range(3000)]\n",
    "print('Pr(Prob)', np.mean([var > observed_variance for var in perm_variance]))\n",
    "\n",
    "fig, ax = plt.subplots(figsize=(5, 5))\n",
    "ax.hist(perm_variance, bins=11, rwidth=0.9)\n",
    "ax.axvline(x = observed_variance, color='black', lw=2)\n",
    "ax.text(60, 200, 'Observed\\nvariance', bbox={'facecolor':'white'})\n",
    "ax.set_xlabel('Variance')\n",
    "ax.set_ylabel('Frequency')\n",
    "\n",
    "plt.tight_layout()\n",
    "plt.show()"
   ]
  },
  {
   "cell_type": "markdown",
   "metadata": {},
   "source": [
    "## F-Statistic\n",
    "We can compute an ANOVA table using statsmodel."
   ]
  },
  {
   "cell_type": "code",
   "execution_count": 19,
   "metadata": {
    "execution": {
     "iopub.execute_input": "2022-04-26T19:42:25.950745Z",
     "iopub.status.busy": "2022-04-26T19:42:25.950256Z",
     "iopub.status.idle": "2022-04-26T19:42:25.966666Z",
     "shell.execute_reply": "2022-04-26T19:42:25.965805Z"
    }
   },
   "outputs": [
    {
     "name": "stdout",
     "output_type": "stream",
     "text": [
      "            df  sum_sq     mean_sq         F    PR(>F)\n",
      "Page       3.0   831.4  277.133333  2.739825  0.077586\n",
      "Residual  16.0  1618.4  101.150000       NaN       NaN\n"
     ]
    }
   ],
   "source": [
    "model = smf.ols('Time ~ Page', data=four_sessions).fit()\n",
    "                \n",
    "aov_table = sm.stats.anova_lm(model)\n",
    "print(aov_table)"
   ]
  },
  {
   "cell_type": "code",
   "execution_count": 20,
   "metadata": {
    "execution": {
     "iopub.execute_input": "2022-04-26T19:42:25.969823Z",
     "iopub.status.busy": "2022-04-26T19:42:25.969091Z",
     "iopub.status.idle": "2022-04-26T19:42:25.977569Z",
     "shell.execute_reply": "2022-04-26T19:42:25.976760Z"
    }
   },
   "outputs": [
    {
     "name": "stdout",
     "output_type": "stream",
     "text": [
      "F-Statistic: 1.3699\n",
      "p-value: 0.0388\n"
     ]
    }
   ],
   "source": [
    "res = stats.f_oneway(four_sessions[four_sessions.Page == 'Page 1'].Time, \n",
    "                     four_sessions[four_sessions.Page == 'Page 2'].Time,\n",
    "                     four_sessions[four_sessions.Page == 'Page 3'].Time,\n",
    "                     four_sessions[four_sessions.Page == 'Page 4'].Time)\n",
    "print(f'F-Statistic: {res.statistic / 2:.4f}')\n",
    "print(f'p-value: {res.pvalue / 2:.4f}')"
   ]
  },
  {
   "cell_type": "markdown",
   "metadata": {},
   "source": [
    "### Two-way anova only available with statsmodels\n",
    "```\n",
    "formula = 'len ~ C(supp) + C(dose) + C(supp):C(dose)'\n",
    "model = ols(formula, data).fit()\n",
    "aov_table = anova_lm(model, typ=2)\n",
    "```"
   ]
  },
  {
   "cell_type": "markdown",
   "metadata": {},
   "source": [
    "# Chi-Square Test\n",
    "## Chi-Square Test: A Resampling Approach"
   ]
  },
  {
   "cell_type": "code",
   "execution_count": 21,
   "metadata": {
    "execution": {
     "iopub.execute_input": "2022-04-26T19:42:25.980996Z",
     "iopub.status.busy": "2022-04-26T19:42:25.980245Z",
     "iopub.status.idle": "2022-04-26T19:42:25.992905Z",
     "shell.execute_reply": "2022-04-26T19:42:25.991946Z"
    }
   },
   "outputs": [
    {
     "name": "stdout",
     "output_type": "stream",
     "text": [
      "Headline  Headline A  Headline B  Headline C\n",
      "Click                                       \n",
      "Click             14           8          12\n",
      "No-click         986         992         988\n"
     ]
    }
   ],
   "source": [
    "# Table 3-4\n",
    "click_rate = pd.read_csv(CLICK_RATE_CSV)\n",
    "clicks = click_rate.pivot(index='Click', columns='Headline', values='Rate')\n",
    "print(clicks)"
   ]
  },
  {
   "cell_type": "code",
   "execution_count": 22,
   "metadata": {
    "execution": {
     "iopub.execute_input": "2022-04-26T19:42:25.996281Z",
     "iopub.status.busy": "2022-04-26T19:42:25.995453Z",
     "iopub.status.idle": "2022-04-26T19:42:26.004487Z",
     "shell.execute_reply": "2022-04-26T19:42:26.003719Z"
    }
   },
   "outputs": [
    {
     "data": {
      "text/html": [
       "<div>\n",
       "<style scoped>\n",
       "    .dataframe tbody tr th:only-of-type {\n",
       "        vertical-align: middle;\n",
       "    }\n",
       "\n",
       "    .dataframe tbody tr th {\n",
       "        vertical-align: top;\n",
       "    }\n",
       "\n",
       "    .dataframe thead th {\n",
       "        text-align: right;\n",
       "    }\n",
       "</style>\n",
       "<table border=\"1\" class=\"dataframe\">\n",
       "  <thead>\n",
       "    <tr style=\"text-align: right;\">\n",
       "      <th></th>\n",
       "      <th>Headline A</th>\n",
       "      <th>Headline B</th>\n",
       "      <th>Headline C</th>\n",
       "    </tr>\n",
       "    <tr>\n",
       "      <th>Click</th>\n",
       "      <th></th>\n",
       "      <th></th>\n",
       "      <th></th>\n",
       "    </tr>\n",
       "  </thead>\n",
       "  <tbody>\n",
       "    <tr>\n",
       "      <th>Click</th>\n",
       "      <td>11.333333</td>\n",
       "      <td>11.333333</td>\n",
       "      <td>11.333333</td>\n",
       "    </tr>\n",
       "    <tr>\n",
       "      <th>No-click</th>\n",
       "      <td>988.666667</td>\n",
       "      <td>988.666667</td>\n",
       "      <td>988.666667</td>\n",
       "    </tr>\n",
       "  </tbody>\n",
       "</table>\n",
       "</div>"
      ],
      "text/plain": [
       "          Headline A  Headline B  Headline C\n",
       "Click                                       \n",
       "Click      11.333333   11.333333   11.333333\n",
       "No-click  988.666667  988.666667  988.666667"
      ]
     },
     "execution_count": 22,
     "metadata": {},
     "output_type": "execute_result"
    }
   ],
   "source": [
    "# Table 3-5\n",
    "row_average = clicks.mean(axis=1)\n",
    "pd.DataFrame({\n",
    "    'Headline A': row_average,\n",
    "    'Headline B': row_average,\n",
    "    'Headline C': row_average,\n",
    "})"
   ]
  },
  {
   "cell_type": "code",
   "execution_count": 23,
   "metadata": {
    "execution": {
     "iopub.execute_input": "2022-04-26T19:42:26.007379Z",
     "iopub.status.busy": "2022-04-26T19:42:26.007145Z",
     "iopub.status.idle": "2022-04-26T19:42:28.122476Z",
     "shell.execute_reply": "2022-04-26T19:42:28.121752Z"
    }
   },
   "outputs": [
    {
     "name": "stdout",
     "output_type": "stream",
     "text": [
      "Observed chi2: 1.6659\n",
      "Resampled p-value: 0.4820\n"
     ]
    }
   ],
   "source": [
    "# Resampling approach\n",
    "box = [1] * 34\n",
    "box.extend([0] * 2966)\n",
    "random.shuffle(box)\n",
    "\n",
    "def chi2(observed, expected):\n",
    "    pearson_residuals = []\n",
    "    for row, expect in zip(observed, expected):\n",
    "        pearson_residuals.append([(observe - expect) ** 2 / expect\n",
    "                                  for observe in row])\n",
    "    # return sum of squares\n",
    "    return np.sum(pearson_residuals)\n",
    "\n",
    "expected_clicks = 34 / 3\n",
    "expected_noclicks = 1000 - expected_clicks\n",
    "expected = [34 / 3, 1000 - 34 / 3]\n",
    "chi2observed = chi2(clicks.values, expected)\n",
    "\n",
    "def perm_fun(box):\n",
    "    sample_clicks = [sum(random.sample(box, 1000)),\n",
    "                     sum(random.sample(box, 1000)),\n",
    "                     sum(random.sample(box, 1000))]\n",
    "    sample_noclicks = [1000 - n for n in sample_clicks]\n",
    "    return chi2([sample_clicks, sample_noclicks], expected)\n",
    "\n",
    "perm_chi2 = [perm_fun(box) for _ in range(2000)]\n",
    "\n",
    "resampled_p_value = sum(perm_chi2 > chi2observed) / len(perm_chi2)\n",
    "print(f'Observed chi2: {chi2observed:.4f}')\n",
    "print(f'Resampled p-value: {resampled_p_value:.4f}')"
   ]
  },
  {
   "cell_type": "code",
   "execution_count": 24,
   "metadata": {
    "execution": {
     "iopub.execute_input": "2022-04-26T19:42:28.126433Z",
     "iopub.status.busy": "2022-04-26T19:42:28.126032Z",
     "iopub.status.idle": "2022-04-26T19:42:28.132714Z",
     "shell.execute_reply": "2022-04-26T19:42:28.131972Z"
    }
   },
   "outputs": [
    {
     "name": "stdout",
     "output_type": "stream",
     "text": [
      "Observed chi2: 1.6659\n",
      "p-value: 0.4348\n"
     ]
    }
   ],
   "source": [
    "chisq, pvalue, df, expected = stats.chi2_contingency(clicks)\n",
    "print(f'Observed chi2: {chisq:.4f}')\n",
    "print(f'p-value: {pvalue:.4f}')"
   ]
  },
  {
   "cell_type": "markdown",
   "metadata": {},
   "source": [
    "## Figure chi-sq distribution"
   ]
  },
  {
   "cell_type": "code",
   "execution_count": 25,
   "metadata": {
    "execution": {
     "iopub.execute_input": "2022-04-26T19:42:28.135947Z",
     "iopub.status.busy": "2022-04-26T19:42:28.135769Z",
     "iopub.status.idle": "2022-04-26T19:42:28.518036Z",
     "shell.execute_reply": "2022-04-26T19:42:28.517020Z"
    }
   },
   "outputs": [
    {
     "data": {
      "image/png": "[encoded data removed]",
      "text/plain": [
       "<Figure size 288x180 with 1 Axes>"
      ]
     },
     "metadata": {
      "needs_background": "light"
     },
     "output_type": "display_data"
    }
   ],
   "source": [
    "x = [1 + i * (30 - 1) / 99 for i in range(100)]\n",
    "\n",
    "chi = pd.DataFrame({\n",
    "    'x': x,\n",
    "    'chi_1': stats.chi2.pdf(x, df=1),\n",
    "    'chi_2': stats.chi2.pdf(x, df=2),\n",
    "    'chi_5': stats.chi2.pdf(x, df=5),\n",
    "    'chi_10': stats.chi2.pdf(x, df=10),\n",
    "    'chi_20': stats.chi2.pdf(x, df=20),\n",
    "})\n",
    "fig, ax = plt.subplots(figsize=(4, 2.5))\n",
    "ax.plot(chi.x, chi.chi_1, color='black', linestyle='-', label='1')\n",
    "ax.plot(chi.x, chi.chi_2, color='black', linestyle=(0, (1, 1)), label='2')\n",
    "ax.plot(chi.x, chi.chi_5, color='black', linestyle=(0, (2, 1)), label='5')\n",
    "ax.plot(chi.x, chi.chi_10, color='black', linestyle=(0, (3, 1)), label='10')\n",
    "ax.plot(chi.x, chi.chi_20, color='black', linestyle=(0, (4, 1)), label='20')\n",
    "ax.legend(title='df')\n",
    "\n",
    "plt.tight_layout()\n",
    "plt.show()"
   ]
  },
  {
   "cell_type": "markdown",
   "metadata": {},
   "source": [
    "## Fisher's Exact Test\n",
    "Scipy has only an implementation of Fisher's Exact test for 2x2 matrices. There is a github repository that provides a Python implementation that uses the same code as the R version. Installing this requires a Fortran compiler. \n",
    "```\n",
    "stats.fisher_exact(clicks)\n",
    "```"
   ]
  },
  {
   "cell_type": "code",
   "execution_count": 26,
   "metadata": {
    "execution": {
     "iopub.execute_input": "2022-04-26T19:42:28.520990Z",
     "iopub.status.busy": "2022-04-26T19:42:28.520672Z",
     "iopub.status.idle": "2022-04-26T19:42:28.524214Z",
     "shell.execute_reply": "2022-04-26T19:42:28.523528Z"
    }
   },
   "outputs": [],
   "source": [
    "# stats.fisher_exact(clicks.values)"
   ]
  },
  {
   "cell_type": "markdown",
   "metadata": {},
   "source": [
    "### Scientific Fraud"
   ]
  },
  {
   "cell_type": "code",
   "execution_count": 27,
   "metadata": {
    "execution": {
     "iopub.execute_input": "2022-04-26T19:42:28.528915Z",
     "iopub.status.busy": "2022-04-26T19:42:28.527903Z",
     "iopub.status.idle": "2022-04-26T19:42:28.657210Z",
     "shell.execute_reply": "2022-04-26T19:42:28.656675Z"
    }
   },
   "outputs": [
    {
     "data": {
      "image/png": "[encoded data removed]",
      "text/plain": [
       "<Figure size 288x288 with 1 Axes>"
      ]
     },
     "metadata": {
      "needs_background": "light"
     },
     "output_type": "display_data"
    }
   ],
   "source": [
    "imanishi = pd.read_csv(IMANISHI_CSV)\n",
    "imanishi.columns = [c.strip() for c in imanishi.columns]\n",
    "ax = imanishi.plot.bar(x='Digit', y=['Frequency'], legend=False,\n",
    "                      figsize=(4, 4))\n",
    "ax.set_xlabel('Digit')\n",
    "ax.set_ylabel('Frequency')\n",
    "\n",
    "plt.tight_layout()\n",
    "plt.show()"
   ]
  },
  {
   "cell_type": "markdown",
   "metadata": {},
   "source": [
    "# Power and Sample Size\n",
    "statsmodels has a number of methods for power calculation\n",
    "\n",
    "see e.g.: https://machinelearningmastery.com/statistical-power-and-power-analysis-in-python/"
   ]
  },
  {
   "cell_type": "code",
   "execution_count": 28,
   "metadata": {
    "execution": {
     "iopub.execute_input": "2022-04-26T19:42:28.661566Z",
     "iopub.status.busy": "2022-04-26T19:42:28.660330Z",
     "iopub.status.idle": "2022-04-26T19:42:28.669946Z",
     "shell.execute_reply": "2022-04-26T19:42:28.669267Z"
    }
   },
   "outputs": [
    {
     "name": "stdout",
     "output_type": "stream",
     "text": [
      "Sample Size: 116602.393\n"
     ]
    }
   ],
   "source": [
    "effect_size = sm.stats.proportion_effectsize(0.0121, 0.011)\n",
    "analysis = sm.stats.TTestIndPower()\n",
    "result = analysis.solve_power(effect_size=effect_size, \n",
    "                              alpha=0.05, power=0.8, alternative='larger')\n",
    "print('Sample Size: %.3f' % result)"
   ]
  },
  {
   "cell_type": "code",
   "execution_count": 29,
   "metadata": {
    "execution": {
     "iopub.execute_input": "2022-04-26T19:42:28.673223Z",
     "iopub.status.busy": "2022-04-26T19:42:28.672709Z",
     "iopub.status.idle": "2022-04-26T19:42:28.681809Z",
     "shell.execute_reply": "2022-04-26T19:42:28.681009Z"
    }
   },
   "outputs": [
    {
     "name": "stdout",
     "output_type": "stream",
     "text": [
      "Sample Size: 5488.408\n"
     ]
    }
   ],
   "source": [
    "effect_size = sm.stats.proportion_effectsize(0.0165, 0.011)\n",
    "analysis = sm.stats.TTestIndPower()\n",
    "result = analysis.solve_power(effect_size=effect_size, \n",
    "                              alpha=0.05, power=0.8, alternative='larger')\n",
    "print('Sample Size: %.3f' % result)"
   ]
  },
  {
   "cell_type": "code",
   "execution_count": 74,
   "metadata": {},
   "outputs": [],
   "source": [
    "# https://www.analyticsvidhya.com/blog/2020/12/statistics-for-beginners-power-of-power-analysis/"
   ]
  },
  {
   "cell_type": "code",
   "execution_count": null,
   "metadata": {},
   "outputs": [],
   "source": []
  }
 ],
 "metadata": {
  "kernelspec": {
   "display_name": "Python 3",
   "language": "python",
   "name": "python3"
  },
  "language_info": {
   "codemirror_mode": {
    "name": "ipython",
    "version": 3
   },
   "file_extension": ".py",
   "mimetype": "text/x-python",
   "name": "python",
   "nbconvert_exporter": "python",
   "pygments_lexer": "ipython3",
   "version": "3.8.8"
  }
 },
 "nbformat": 4,
 "nbformat_minor": 4
}
